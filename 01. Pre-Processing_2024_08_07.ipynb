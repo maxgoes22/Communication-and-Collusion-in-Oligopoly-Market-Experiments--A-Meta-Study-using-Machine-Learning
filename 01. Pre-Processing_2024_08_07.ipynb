{
 "cells": [
  {
   "cell_type": "markdown",
   "metadata": {},
   "source": [
    "# Communication and Collusion in Oligopoly Market Experiments: A Meta-Study using Machine Learning"
   ]
  },
  {
   "cell_type": "markdown",
   "metadata": {},
   "source": [
    "# "
   ]
  },
  {
   "cell_type": "markdown",
   "metadata": {},
   "source": [
    " "
   ]
  },
  {
   "cell_type": "markdown",
   "metadata": {},
   "source": [
    "# Natural Language Processing"
   ]
  },
  {
   "cell_type": "markdown",
   "metadata": {},
   "source": [
    " "
   ]
  },
  {
   "cell_type": "markdown",
   "metadata": {},
   "source": [
    "## Packages"
   ]
  },
  {
   "cell_type": "code",
   "execution_count": 1,
   "metadata": {},
   "outputs": [],
   "source": [
    "InstallPackages = False\n",
    "if InstallPackages:\n",
    "    !pip install pandas\n",
    "    !pip install nltk\n",
    "    !pip install spacy\n",
    "    !pip install numpy\n",
    "    !pip install matplotlib\n",
    "    !pip install seaborn\n",
    "    !pip install openpyxl"
   ]
  },
  {
   "cell_type": "code",
   "execution_count": 2,
   "metadata": {},
   "outputs": [],
   "source": [
    "import pandas as pd\n",
    "import nltk\n",
    "import spacy\n",
    "import numpy as np\n",
    "import csv\n",
    "import re\n",
    "import seaborn as sns"
   ]
  },
  {
   "cell_type": "code",
   "execution_count": 3,
   "metadata": {},
   "outputs": [],
   "source": [
    "from nltk import ngrams\n",
    "from nltk.corpus import stopwords\n",
    "from matplotlib import pyplot as plt\n",
    "from pprint import pprint"
   ]
  },
  {
   "cell_type": "code",
   "execution_count": 4,
   "metadata": {},
   "outputs": [],
   "source": [
    "DownloadAdditions = False\n",
    "if DownloadAdditions:\n",
    "    nltk.download('stopwords')\n",
    "    spacy.cli.download('de_core_news_lg')"
   ]
  },
  {
   "cell_type": "code",
   "execution_count": 5,
   "metadata": {},
   "outputs": [],
   "source": [
    "nlp = spacy.load('de_core_news_lg')"
   ]
  },
  {
   "cell_type": "code",
   "execution_count": 6,
   "metadata": {},
   "outputs": [],
   "source": [
    "sns.set_theme(style=\"whitegrid\")"
   ]
  },
  {
   "cell_type": "markdown",
   "metadata": {},
   "source": [
    "## Seed"
   ]
  },
  {
   "cell_type": "code",
   "execution_count": 7,
   "metadata": {},
   "outputs": [],
   "source": [
    "seed = 42"
   ]
  },
  {
   "cell_type": "markdown",
   "metadata": {},
   "source": [
    "## Read the data"
   ]
  },
  {
   "cell_type": "markdown",
   "metadata": {},
   "source": [
    "Set the path"
   ]
  },
  {
   "cell_type": "code",
   "execution_count": 8,
   "metadata": {},
   "outputs": [],
   "source": [
    "path = 'C:/Users/Maximilian Andres/Nextcloud2/Collusion Meta Study/Data Analysis'\n",
    "#path = '/Users/birteprado/Documents/02 Uni/02 Master/Master Thesis/05 BigData/04 Target Table/02 Target Tables/Target_GrSe.xlsx'"
   ]
  },
  {
   "cell_type": "markdown",
   "metadata": {},
   "source": [
    "Read the data according to the path"
   ]
  },
  {
   "cell_type": "code",
   "execution_count": 9,
   "metadata": {},
   "outputs": [],
   "source": [
    "df = pd.read_excel(path+'/Data/03 BigData/04 Target Table/02 Target Tables/Target_GrSe.xlsx')"
   ]
  },
  {
   "cell_type": "code",
   "execution_count": 10,
   "metadata": {},
   "outputs": [],
   "source": [
    "df = df[df['AvgMatchNo'] == 1]"
   ]
  },
  {
   "cell_type": "markdown",
   "metadata": {},
   "source": [
    "Columns in the data"
   ]
  },
  {
   "cell_type": "code",
   "execution_count": 11,
   "metadata": {},
   "outputs": [
    {
     "name": "stdout",
     "output_type": "stream",
     "text": [
      "<class 'pandas.core.frame.DataFrame'>\n",
      "Index: 399 entries, 0 to 958\n",
      "Data columns (total 44 columns):\n",
      " #   Column             Non-Null Count  Dtype  \n",
      "---  ------             --------------  -----  \n",
      " 0   StudyID            399 non-null    int64  \n",
      " 1   Author             399 non-null    object \n",
      " 2   Title              399 non-null    object \n",
      " 3   Year               399 non-null    int64  \n",
      " 4   Journal            399 non-null    object \n",
      " 5   SingleGroup        399 non-null    int64  \n",
      " 6   Session            399 non-null    int64  \n",
      " 7   Group              399 non-null    int64  \n",
      " 8   AvgMatchNo         399 non-null    int64  \n",
      " 9   CoundOneCoopvar1   399 non-null    float64\n",
      " 10  CoundOneCoopvar2   399 non-null    float64\n",
      " 11  CoundAllCoopvar1   399 non-null    float64\n",
      " 12  CoundAllCoopvar2   399 non-null    float64\n",
      " 13  T                  399 non-null    float64\n",
      " 14  R                  399 non-null    float64\n",
      " 15  S                  399 non-null    float64\n",
      " 16  P_1                399 non-null    float64\n",
      " 17  P_2                399 non-null    float64\n",
      " 18  l_1                399 non-null    float64\n",
      " 19  l_2                399 non-null    float64\n",
      " 20  g_1                399 non-null    float64\n",
      " 21  g_2                399 non-null    float64\n",
      " 22  ExpectedLength     399 non-null    int64  \n",
      " 23  MinimumLength      399 non-null    int64  \n",
      " 24  DiscountFactor     288 non-null    float64\n",
      " 25  GroupSize          399 non-null    int64  \n",
      " 26  Treatment          367 non-null    object \n",
      " 27  TreatmentName      224 non-null    object \n",
      " 28  Bertrand           399 non-null    int64  \n",
      " 29  Preplay            399 non-null    int64  \n",
      " 30  JointProfitPrice   365 non-null    float64\n",
      " 31  NashPrice          365 non-null    float64\n",
      " 32  ZeroPrice          365 non-null    float64\n",
      " 33  UndercuttingPrice  365 non-null    float64\n",
      " 34  Infinite           399 non-null    int64  \n",
      " 35  ExchangeRate       399 non-null    float64\n",
      " 36  Fine               399 non-null    int64  \n",
      " 37  FineAlpha          127 non-null    float64\n",
      " 38  Rematch            399 non-null    int64  \n",
      " 39  AllChat_Original   349 non-null    object \n",
      " 40  AllChat_Cleaned    349 non-null    object \n",
      " 41  AllChat_Cleaned2   349 non-null    object \n",
      " 42  AllChat_PriceKeys  349 non-null    object \n",
      " 43  CommTreat          399 non-null    int64  \n",
      "dtypes: float64(20), int64(15), object(9)\n",
      "memory usage: 140.3+ KB\n"
     ]
    }
   ],
   "source": [
    "df.info()"
   ]
  },
  {
   "cell_type": "markdown",
   "metadata": {},
   "source": [
    "Preview of the data"
   ]
  },
  {
   "cell_type": "code",
   "execution_count": 12,
   "metadata": {},
   "outputs": [
    {
     "data": {
      "text/plain": [
       "<seaborn.axisgrid.FacetGrid at 0x21bb0946d80>"
      ]
     },
     "execution_count": 12,
     "metadata": {},
     "output_type": "execute_result"
    },
    {
     "data": {
      "image/png": "[encoded data removed]",
      "text/plain": [
       "<Figure size 500x500 with 1 Axes>"
      ]
     },
     "metadata": {},
     "output_type": "display_data"
    }
   ],
   "source": [
    "sns.displot(data=df, x='CoundAllCoopvar1')"
   ]
  },
  {
   "cell_type": "code",
   "execution_count": 13,
   "metadata": {},
   "outputs": [
    {
     "data": {
      "text/html": [
       "<div>\n",
       "<style scoped>\n",
       "    .dataframe tbody tr th:only-of-type {\n",
       "        vertical-align: middle;\n",
       "    }\n",
       "\n",
       "    .dataframe tbody tr th {\n",
       "        vertical-align: top;\n",
       "    }\n",
       "\n",
       "    .dataframe thead th {\n",
       "        text-align: right;\n",
       "    }\n",
       "</style>\n",
       "<table border=\"1\" class=\"dataframe\">\n",
       "  <thead>\n",
       "    <tr style=\"text-align: right;\">\n",
       "      <th></th>\n",
       "      <th>StudyID</th>\n",
       "      <th>Author</th>\n",
       "      <th>Title</th>\n",
       "      <th>Year</th>\n",
       "      <th>Journal</th>\n",
       "      <th>SingleGroup</th>\n",
       "      <th>Session</th>\n",
       "      <th>Group</th>\n",
       "      <th>AvgMatchNo</th>\n",
       "      <th>CoundOneCoopvar1</th>\n",
       "      <th>...</th>\n",
       "      <th>Infinite</th>\n",
       "      <th>ExchangeRate</th>\n",
       "      <th>Fine</th>\n",
       "      <th>FineAlpha</th>\n",
       "      <th>Rematch</th>\n",
       "      <th>AllChat_Original</th>\n",
       "      <th>AllChat_Cleaned</th>\n",
       "      <th>AllChat_Cleaned2</th>\n",
       "      <th>AllChat_PriceKeys</th>\n",
       "      <th>CommTreat</th>\n",
       "    </tr>\n",
       "  </thead>\n",
       "  <tbody>\n",
       "    <tr>\n",
       "      <th>0</th>\n",
       "      <td>201</td>\n",
       "      <td>Bodnar et al.</td>\n",
       "      <td>The Effects of Private Damage Claims on Cartel...</td>\n",
       "      <td>2023</td>\n",
       "      <td>The Journal of Law, Economics, and Organization</td>\n",
       "      <td>201001001001</td>\n",
       "      <td>1</td>\n",
       "      <td>1</td>\n",
       "      <td>1</td>\n",
       "      <td>0.074074</td>\n",
       "      <td>...</td>\n",
       "      <td>1</td>\n",
       "      <td>3.33</td>\n",
       "      <td>1</td>\n",
       "      <td>0.15</td>\n",
       "      <td>0</td>\n",
       "      <td>\"bitte alle auf 110\"\"ja\"\"ja man \"\"dann hat jed...</td>\n",
       "      <td>\"Bitte alle auf 110\"\"Ja\"\"Ja man\"\"Dann hat jede...</td>\n",
       "      <td>\"Bitte alle auf 110\"\"Ja\"\"Ja man\"\"Dann hat jede...</td>\n",
       "      <td>\"Bitte alle auf JointProfitPrice\"\"Ja\"\"Ja man\"\"...</td>\n",
       "      <td>1</td>\n",
       "    </tr>\n",
       "    <tr>\n",
       "      <th>1</th>\n",
       "      <td>201</td>\n",
       "      <td>Bodnar et al.</td>\n",
       "      <td>The Effects of Private Damage Claims on Cartel...</td>\n",
       "      <td>2023</td>\n",
       "      <td>The Journal of Law, Economics, and Organization</td>\n",
       "      <td>201001002001</td>\n",
       "      <td>1</td>\n",
       "      <td>2</td>\n",
       "      <td>1</td>\n",
       "      <td>0.666667</td>\n",
       "      <td>...</td>\n",
       "      <td>1</td>\n",
       "      <td>3.33</td>\n",
       "      <td>1</td>\n",
       "      <td>0.15</td>\n",
       "      <td>0</td>\n",
       "      <td>\"alle 110\"\"ja sehr gut\"\"was ist mit besprechen...</td>\n",
       "      <td>\"Alle 110.\"\"Ja, sehr gut.\"\"Was ist mit Besprec...</td>\n",
       "      <td>\"Alle 110.\"\"Ja, sehr gut.\"\"Was ist mit Besprec...</td>\n",
       "      <td>\"Alle JointProfitPrice.\"\"Ja, sehr gut.\"\"Was is...</td>\n",
       "      <td>1</td>\n",
       "    </tr>\n",
       "    <tr>\n",
       "      <th>2</th>\n",
       "      <td>201</td>\n",
       "      <td>Bodnar et al.</td>\n",
       "      <td>The Effects of Private Damage Claims on Cartel...</td>\n",
       "      <td>2023</td>\n",
       "      <td>The Journal of Law, Economics, and Organization</td>\n",
       "      <td>201001003001</td>\n",
       "      <td>1</td>\n",
       "      <td>3</td>\n",
       "      <td>1</td>\n",
       "      <td>0.583333</td>\n",
       "      <td>...</td>\n",
       "      <td>1</td>\n",
       "      <td>3.33</td>\n",
       "      <td>1</td>\n",
       "      <td>0.15</td>\n",
       "      <td>0</td>\n",
       "      <td>\"alle immer 110\"\"ja\"\"und wenn keiner meldet, i...</td>\n",
       "      <td>\"Alle immer 110.\"\"Ja\"\"Und wenn keiner meldet, ...</td>\n",
       "      <td>\"Alle immer 110.\"\"Ja\"\"Und wenn keiner meldet, ...</td>\n",
       "      <td>\"Alle immer JointProfitPrice.\"\"Ja\"\"Und wenn ke...</td>\n",
       "      <td>1</td>\n",
       "    </tr>\n",
       "    <tr>\n",
       "      <th>3</th>\n",
       "      <td>201</td>\n",
       "      <td>Bodnar et al.</td>\n",
       "      <td>The Effects of Private Damage Claims on Cartel...</td>\n",
       "      <td>2023</td>\n",
       "      <td>The Journal of Law, Economics, and Organization</td>\n",
       "      <td>201001004001</td>\n",
       "      <td>1</td>\n",
       "      <td>4</td>\n",
       "      <td>1</td>\n",
       "      <td>1.000000</td>\n",
       "      <td>...</td>\n",
       "      <td>1</td>\n",
       "      <td>3.33</td>\n",
       "      <td>1</td>\n",
       "      <td>0.15</td>\n",
       "      <td>0</td>\n",
       "      <td>\"Hi\"\"Jeder 110 dann verdient jeder 3 Punkte = ...</td>\n",
       "      <td>\"Hi\"\"Jeder 110, dann verdient jeder 3 Punkte i...</td>\n",
       "      <td>\"Hi\"\"Jeder 110, dann verdient jeder 3 Punkte i...</td>\n",
       "      <td>\"Hi\"\"Jeder JointProfitPrice, dann verdient jed...</td>\n",
       "      <td>1</td>\n",
       "    </tr>\n",
       "    <tr>\n",
       "      <th>4</th>\n",
       "      <td>201</td>\n",
       "      <td>Bodnar et al.</td>\n",
       "      <td>The Effects of Private Damage Claims on Cartel...</td>\n",
       "      <td>2023</td>\n",
       "      <td>The Journal of Law, Economics, and Organization</td>\n",
       "      <td>201001005001</td>\n",
       "      <td>1</td>\n",
       "      <td>5</td>\n",
       "      <td>1</td>\n",
       "      <td>1.000000</td>\n",
       "      <td>...</td>\n",
       "      <td>1</td>\n",
       "      <td>3.33</td>\n",
       "      <td>1</td>\n",
       "      <td>0.15</td>\n",
       "      <td>0</td>\n",
       "      <td>\"Sind alle drei da?^^\"\"ale 110 eingeben jede r...</td>\n",
       "      <td>\"Sind alle drei da? happysmiley\"\"Alle 110 eing...</td>\n",
       "      <td>\"Sind alle drei da? happysmiley\"\"Alle 110 eing...</td>\n",
       "      <td>\"Sind alle drei da? happysmiley\"\"Alle JointPro...</td>\n",
       "      <td>1</td>\n",
       "    </tr>\n",
       "  </tbody>\n",
       "</table>\n",
       "<p>5 rows × 44 columns</p>\n",
       "</div>"
      ],
      "text/plain": [
       "   StudyID         Author                                              Title  \\\n",
       "0      201  Bodnar et al.  The Effects of Private Damage Claims on Cartel...   \n",
       "1      201  Bodnar et al.  The Effects of Private Damage Claims on Cartel...   \n",
       "2      201  Bodnar et al.  The Effects of Private Damage Claims on Cartel...   \n",
       "3      201  Bodnar et al.  The Effects of Private Damage Claims on Cartel...   \n",
       "4      201  Bodnar et al.  The Effects of Private Damage Claims on Cartel...   \n",
       "\n",
       "   Year                                          Journal   SingleGroup  \\\n",
       "0  2023  The Journal of Law, Economics, and Organization  201001001001   \n",
       "1  2023  The Journal of Law, Economics, and Organization  201001002001   \n",
       "2  2023  The Journal of Law, Economics, and Organization  201001003001   \n",
       "3  2023  The Journal of Law, Economics, and Organization  201001004001   \n",
       "4  2023  The Journal of Law, Economics, and Organization  201001005001   \n",
       "\n",
       "   Session  Group  AvgMatchNo  CoundOneCoopvar1  ...  Infinite  ExchangeRate  \\\n",
       "0        1      1           1          0.074074  ...         1          3.33   \n",
       "1        1      2           1          0.666667  ...         1          3.33   \n",
       "2        1      3           1          0.583333  ...         1          3.33   \n",
       "3        1      4           1          1.000000  ...         1          3.33   \n",
       "4        1      5           1          1.000000  ...         1          3.33   \n",
       "\n",
       "   Fine  FineAlpha  Rematch  \\\n",
       "0     1       0.15        0   \n",
       "1     1       0.15        0   \n",
       "2     1       0.15        0   \n",
       "3     1       0.15        0   \n",
       "4     1       0.15        0   \n",
       "\n",
       "                                    AllChat_Original  \\\n",
       "0  \"bitte alle auf 110\"\"ja\"\"ja man \"\"dann hat jed...   \n",
       "1  \"alle 110\"\"ja sehr gut\"\"was ist mit besprechen...   \n",
       "2  \"alle immer 110\"\"ja\"\"und wenn keiner meldet, i...   \n",
       "3  \"Hi\"\"Jeder 110 dann verdient jeder 3 Punkte = ...   \n",
       "4  \"Sind alle drei da?^^\"\"ale 110 eingeben jede r...   \n",
       "\n",
       "                                     AllChat_Cleaned  \\\n",
       "0  \"Bitte alle auf 110\"\"Ja\"\"Ja man\"\"Dann hat jede...   \n",
       "1  \"Alle 110.\"\"Ja, sehr gut.\"\"Was ist mit Besprec...   \n",
       "2  \"Alle immer 110.\"\"Ja\"\"Und wenn keiner meldet, ...   \n",
       "3  \"Hi\"\"Jeder 110, dann verdient jeder 3 Punkte i...   \n",
       "4  \"Sind alle drei da? happysmiley\"\"Alle 110 eing...   \n",
       "\n",
       "                                    AllChat_Cleaned2  \\\n",
       "0  \"Bitte alle auf 110\"\"Ja\"\"Ja man\"\"Dann hat jede...   \n",
       "1  \"Alle 110.\"\"Ja, sehr gut.\"\"Was ist mit Besprec...   \n",
       "2  \"Alle immer 110.\"\"Ja\"\"Und wenn keiner meldet, ...   \n",
       "3  \"Hi\"\"Jeder 110, dann verdient jeder 3 Punkte i...   \n",
       "4  \"Sind alle drei da? happysmiley\"\"Alle 110 eing...   \n",
       "\n",
       "                                   AllChat_PriceKeys  CommTreat  \n",
       "0  \"Bitte alle auf JointProfitPrice\"\"Ja\"\"Ja man\"\"...          1  \n",
       "1  \"Alle JointProfitPrice.\"\"Ja, sehr gut.\"\"Was is...          1  \n",
       "2  \"Alle immer JointProfitPrice.\"\"Ja\"\"Und wenn ke...          1  \n",
       "3  \"Hi\"\"Jeder JointProfitPrice, dann verdient jed...          1  \n",
       "4  \"Sind alle drei da? happysmiley\"\"Alle JointPro...          1  \n",
       "\n",
       "[5 rows x 44 columns]"
      ]
     },
     "execution_count": 13,
     "metadata": {},
     "output_type": "execute_result"
    }
   ],
   "source": [
    "df.head()"
   ]
  },
  {
   "cell_type": "markdown",
   "metadata": {},
   "source": [
    "Number of independent observation per study and treatment"
   ]
  },
  {
   "cell_type": "code",
   "execution_count": 14,
   "metadata": {},
   "outputs": [
    {
     "name": "stdout",
     "output_type": "stream",
     "text": [
      "no. of indep. obs in 201: 16\n",
      "no. of indep. obs in 202: 140\n",
      "no. of indep. obs in 203: 24\n",
      "no. of indep. obs in 203, GroupSize 2: 9\n",
      "no. of indep. obs in 203, GroupSize 4: 9\n",
      "no. of indep. obs in 203, GroupSize 6: 6\n",
      "no. of indep. obs in 205: 32\n",
      "no. of indep. obs in 205, GroupSize 2: 16\n",
      "no. of indep. obs in 205, GroupSize 4: 16\n",
      "no. of indep. obs in 210: 77\n",
      "no. of indep. obs in 210, 1 market: 20\n",
      "no. of indep. obs in 210, 3 markets: 38\n",
      "no. of indep. obs in 210, 4 markets: 19\n",
      "no. of indep. obs in 212: 27\n",
      "no. of indep. obs in 213: 7\n",
      "no. of indep. obs in 214: 76\n",
      "no. of indep. obs in 214, SANCTION: 52\n",
      "no. of indep. obs in 214, NoSANCTION: 24\n",
      "no. of indep. obs in df: 399\n"
     ]
    }
   ],
   "source": [
    "print(\"no. of indep. obs in 201:\", len(df[(df['StudyID'] == 201)]))\n",
    "\n",
    "print(\"no. of indep. obs in 202:\", len(df[(df['StudyID'] == 202)]))\n",
    "#print(\"no. of indep. obs in 202 low cost 1:\", len(df[(df['StudyID'] == 202) & (df['Type'] == 1)]))\n",
    "#print(\"no. of indep. obs in 202 high cost 2:\", len(df[(df['StudyID'] == 202) & (df['Type'] == 2)]))\n",
    "\n",
    "print(\"no. of indep. obs in 203:\", len(df[(df['StudyID'] == 203)]))\n",
    "print(\"no. of indep. obs in 203, GroupSize 2:\", len(df[(df['StudyID'] == 203) & (df['GroupSize'] == 2)]))\n",
    "print(\"no. of indep. obs in 203, GroupSize 4:\", len(df[(df['StudyID'] == 203) & (df['GroupSize'] == 4)]))\n",
    "print(\"no. of indep. obs in 203, GroupSize 6:\", len(df[(df['StudyID'] == 203) & (df['GroupSize'] == 6)]))\n",
    "\n",
    "print(\"no. of indep. obs in 205:\", len(df[(df['StudyID'] == 205)]))\n",
    "print(\"no. of indep. obs in 205, GroupSize 2:\", len(df[(df['StudyID'] == 205) & (df['GroupSize'] == 2)]))\n",
    "print(\"no. of indep. obs in 205, GroupSize 4:\", len(df[(df['StudyID'] == 205) & (df['GroupSize'] == 4)]))\n",
    "\n",
    "print(\"no. of indep. obs in 210:\", len(df[(df['StudyID'] == 210)]))\n",
    "print(\"no. of indep. obs in 210, 1 market:\", len(df[(df['StudyID'] == 210) & (df['Treatment'] == \"1 market\")]))\n",
    "print(\"no. of indep. obs in 210, 3 markets:\", len(df[(df['StudyID'] == 210) & (df['Treatment'] == \"3 markets\")]))\n",
    "print(\"no. of indep. obs in 210, 4 markets:\", len(df[(df['StudyID'] == 210) & (df['Treatment'] == \"4 markets\")]))\n",
    "\n",
    "print(\"no. of indep. obs in 212:\", len(df[(df['StudyID'] == 212)]))\n",
    "\n",
    "print(\"no. of indep. obs in 213:\", len(df[(df['StudyID'] == 213)]))\n",
    "\n",
    "print(\"no. of indep. obs in 214:\", len(df[(df['StudyID'] == 214)]))\n",
    "print(\"no. of indep. obs in 214, SANCTION:\", len(df[(df['StudyID'] == 214) & (df['Treatment'] == \"SANCTION\")]))\n",
    "print(\"no. of indep. obs in 214, NoSANCTION:\", len(df[(df['StudyID'] == 214) & (df['Treatment'] == \"NoSANCTION\")]))\n",
    "\n",
    "print(\"no. of indep. obs in df:\", len(df))"
   ]
  },
  {
   "cell_type": "code",
   "execution_count": 15,
   "metadata": {},
   "outputs": [
    {
     "data": {
      "text/plain": [
       "Fine\n",
       "0    272\n",
       "1    127\n",
       "Name: CoundAllCoopvar1, dtype: int64"
      ]
     },
     "execution_count": 15,
     "metadata": {},
     "output_type": "execute_result"
    }
   ],
   "source": [
    "df.groupby(['Fine'])['CoundAllCoopvar1'].count()"
   ]
  },
  {
   "cell_type": "code",
   "execution_count": 16,
   "metadata": {},
   "outputs": [
    {
     "data": {
      "text/plain": [
       "Preplay\n",
       "0    155\n",
       "1    244\n",
       "Name: CoundAllCoopvar1, dtype: int64"
      ]
     },
     "execution_count": 16,
     "metadata": {},
     "output_type": "execute_result"
    }
   ],
   "source": [
    "df.groupby(['Preplay'])['CoundAllCoopvar1'].count()"
   ]
  },
  {
   "cell_type": "code",
   "execution_count": 17,
   "metadata": {},
   "outputs": [
    {
     "data": {
      "text/plain": [
       "Infinite\n",
       "0    111\n",
       "1    288\n",
       "Name: CoundAllCoopvar1, dtype: int64"
      ]
     },
     "execution_count": 17,
     "metadata": {},
     "output_type": "execute_result"
    }
   ],
   "source": [
    "df.groupby(['Infinite'])['CoundAllCoopvar1'].count()"
   ]
  },
  {
   "cell_type": "code",
   "execution_count": 18,
   "metadata": {},
   "outputs": [
    {
     "data": {
      "text/plain": [
       "Bertrand\n",
       "0    275\n",
       "1    124\n",
       "Name: CoundAllCoopvar1, dtype: int64"
      ]
     },
     "execution_count": 18,
     "metadata": {},
     "output_type": "execute_result"
    }
   ],
   "source": [
    "df.groupby(['Bertrand'])['CoundAllCoopvar1'].count()"
   ]
  },
  {
   "cell_type": "code",
   "execution_count": 19,
   "metadata": {},
   "outputs": [
    {
     "data": {
      "text/plain": [
       "GroupSize\n",
       "2    165\n",
       "3    169\n",
       "4     59\n",
       "6      6\n",
       "Name: CoundAllCoopvar1, dtype: int64"
      ]
     },
     "execution_count": 19,
     "metadata": {},
     "output_type": "execute_result"
    }
   ],
   "source": [
    "df.groupby(['GroupSize'])['CoundAllCoopvar1'].count()"
   ]
  },
  {
   "cell_type": "code",
   "execution_count": null,
   "metadata": {},
   "outputs": [],
   "source": []
  },
  {
   "cell_type": "markdown",
   "metadata": {},
   "source": [
    "## Pre-Processing of the Corpus"
   ]
  },
  {
   "cell_type": "markdown",
   "metadata": {},
   "source": [
    "Lemmatization"
   ]
  },
  {
   "cell_type": "code",
   "execution_count": 29,
   "metadata": {},
   "outputs": [],
   "source": [
    "def lemmatize(statement):\n",
    "    \n",
    "    \"\"\"\n",
    "    This function is used to lemmatize the corpus. \n",
    "    \n",
    "    \"\"\"\n",
    "    \n",
    "    #define strings which should not be lemmatized\n",
    "    donotlemmatize = {}#{'A','B'}\n",
    "    \n",
    "    #process the corpus using spaCy\n",
    "    doc = nlp(statement)\n",
    "    \n",
    "    #lemmatize the corpus\n",
    "    lemmas = [token.text.lower() if token.text in donotlemmatize else token.lemma_.lower() for token in doc]\n",
    "    \n",
    "    return lemmas\n",
    "    "
   ]
  },
  {
   "cell_type": "markdown",
   "metadata": {},
   "source": [
    "Pre-processing function"
   ]
  },
  {
   "cell_type": "code",
   "execution_count": 32,
   "metadata": {},
   "outputs": [],
   "source": [
    "def preprocess(docs):\n",
    "    \n",
    "    \"\"\"\n",
    "    This function is used to preprocess the corpus: remove special characters, lemmatize, remove stopwords and correction.\n",
    "    \n",
    "    \"\"\"\n",
    "\n",
    "    \n",
    "    #define strings which should not be stopwords\n",
    "    nostopwords = {''}#{'A', 'B','a', 'b','X', 'Y','x','y'}\n",
    "    \n",
    "    #create list of stop words\n",
    "    stop_words = list(set(stopwords.words('german'))-nostopwords)\n",
    "    \n",
    "    #remove special characters which are not german umlaute\n",
    "    docs = docs.apply(lambda x: \"\".join(re.sub(r'[^ \\nA-Za-z0-9À-ÖØ-öø-ÿ/]+', ' ', x)))\n",
    "    \n",
    "    #remove all numbers\n",
    "    docs = docs.apply(lambda x: \"\".join(re.sub(r'\\d+', ' ', x)))\n",
    "    \n",
    "    #lemmatize strings\n",
    "    docs = docs.apply(lambda x: \" \".join(lemmatize(x)))\n",
    "    \n",
    "    #remove stopwords\n",
    "    docs = docs.apply(lambda x: \" \".join(x for x in str(x).split() if x not in stop_words))\n",
    "    \n",
    "    #re-name code words for studies\n",
    "    docs = docs.apply(lambda x: \"\".join(re.sub(r'\\bviolett\\b', ' ', x)))\n",
    "    \n",
    "    #remove specific words for studies\n",
    "    docs = docs.apply(lambda x: \"\".join(re.sub(r'\\bnashprice\\b', ' nashaction ', x)))\n",
    "    docs = docs.apply(lambda x: \"\".join(re.sub(r'\\bjointprofitprice\\b', ' jointprofitaction ', x)))\n",
    "    docs = docs.apply(lambda x: \"\".join(re.sub(r'\\bundercuttingprice\\b', ' undercuttingaction ', x)))\n",
    "    docs = docs.apply(lambda x: \"\".join(re.sub(r'\\bzeroprice\\b', ' zeroaction ', x)))\n",
    "    \n",
    "    #specific words for hallo\n",
    "    docs = docs.apply(lambda x: \"\".join(re.sub(r'\\bhi\\b', ' hallo ', x)))\n",
    "    docs = docs.apply(lambda x: \"\".join(re.sub(r'\\bhey\\b', ' hallo ', x)))\n",
    "    docs = docs.apply(lambda x: \"\".join(re.sub(r'\\bmoin\\b', ' hallo ', x)))\n",
    "\n",
    "    #specific words for okay\n",
    "    docs = docs.apply(lambda x: \"\".join(re.sub(r'\\bokay\\b', ' ok ', x)))\n",
    "\n",
    "    #specific words for action\n",
    "    docs = docs.apply(lambda x: \"\".join(re.sub(r'\\banbieten\\b', ' bieten ', x)))\n",
    "    docs = docs.apply(lambda x: \"\".join(re.sub(r'\\btaler\\b', ' punkt ', x)))\n",
    "    docs = docs.apply(lambda x: \"\".join(re.sub(r'\\bmengeneinheiten\\b', ' menge ', x)))\n",
    "    docs = docs.apply(lambda x: \"\".join(re.sub(r'\\bmärkten\\b', ' markt ', x)))\n",
    "\n",
    "    #specific words for haha\n",
    "    docs = docs.apply(lambda x: \"\".join(re.sub(r'\\bhahaha\\b', ' haha ', x)))\n",
    "    \n",
    "    return docs"
   ]
  },
  {
   "cell_type": "markdown",
   "metadata": {},
   "source": [
    "Main"
   ]
  },
  {
   "cell_type": "code",
   "execution_count": 33,
   "metadata": {},
   "outputs": [],
   "source": [
    "df['document'] = preprocess(df['AllChat_PriceKeys'].astype(str))"
   ]
  },
  {
   "cell_type": "code",
   "execution_count": 34,
   "metadata": {},
   "outputs": [
    {
     "data": {
      "text/plain": [
       "0      bitte  jointprofitaction  ja ja jointprofit lo...\n",
       "1       jointprofitaction  ja gut besprechen ok grupp...\n",
       "2      immer  jointprofitaction  ja melden wahrschein...\n",
       "3       hallo   jointprofitaction  verdienen jointpro...\n",
       "4      drei happysmiley  jointprofitaction  eingeben ...\n",
       "                             ...                        \n",
       "954    lassen preis gemeinsam  jointprofitaction  hoc...\n",
       "955    kooperieren klar  jointprofitaction  ok immer ...\n",
       "956    ab  jointprofitaction  meister umsatz einfach ...\n",
       "957     hallo   jointprofitaction  nein macht erhöhen...\n",
       "958    fair vielleicht immer abwechseln sagen firmnum...\n",
       "Name: document, Length: 399, dtype: object"
      ]
     },
     "execution_count": 34,
     "metadata": {},
     "output_type": "execute_result"
    }
   ],
   "source": [
    "df['document']"
   ]
  },
  {
   "cell_type": "code",
   "execution_count": 35,
   "metadata": {},
   "outputs": [
    {
     "data": {
      "text/plain": [
       "'nan'"
      ]
     },
     "execution_count": 35,
     "metadata": {},
     "output_type": "execute_result"
    }
   ],
   "source": [
    "df['document'][5]"
   ]
  },
  {
   "cell_type": "markdown",
   "metadata": {},
   "source": [
    "Seperate those observations not communicating, i.e., nan"
   ]
  },
  {
   "cell_type": "code",
   "execution_count": 36,
   "metadata": {},
   "outputs": [
    {
     "data": {
      "text/html": [
       "<div>\n",
       "<style scoped>\n",
       "    .dataframe tbody tr th:only-of-type {\n",
       "        vertical-align: middle;\n",
       "    }\n",
       "\n",
       "    .dataframe tbody tr th {\n",
       "        vertical-align: top;\n",
       "    }\n",
       "\n",
       "    .dataframe thead th {\n",
       "        text-align: right;\n",
       "    }\n",
       "</style>\n",
       "<table border=\"1\" class=\"dataframe\">\n",
       "  <thead>\n",
       "    <tr style=\"text-align: right;\">\n",
       "      <th></th>\n",
       "      <th>StudyID</th>\n",
       "      <th>Author</th>\n",
       "      <th>Title</th>\n",
       "      <th>Year</th>\n",
       "      <th>Journal</th>\n",
       "      <th>SingleGroup</th>\n",
       "      <th>Session</th>\n",
       "      <th>Group</th>\n",
       "      <th>AvgMatchNo</th>\n",
       "      <th>CoundOneCoopvar1</th>\n",
       "      <th>...</th>\n",
       "      <th>ExchangeRate</th>\n",
       "      <th>Fine</th>\n",
       "      <th>FineAlpha</th>\n",
       "      <th>Rematch</th>\n",
       "      <th>AllChat_Original</th>\n",
       "      <th>AllChat_Cleaned</th>\n",
       "      <th>AllChat_Cleaned2</th>\n",
       "      <th>AllChat_PriceKeys</th>\n",
       "      <th>CommTreat</th>\n",
       "      <th>document</th>\n",
       "    </tr>\n",
       "  </thead>\n",
       "  <tbody>\n",
       "    <tr>\n",
       "      <th>0</th>\n",
       "      <td>201</td>\n",
       "      <td>Bodnar et al.</td>\n",
       "      <td>The Effects of Private Damage Claims on Cartel...</td>\n",
       "      <td>2023</td>\n",
       "      <td>The Journal of Law, Economics, and Organization</td>\n",
       "      <td>201001001001</td>\n",
       "      <td>1</td>\n",
       "      <td>1</td>\n",
       "      <td>1</td>\n",
       "      <td>0.074074</td>\n",
       "      <td>...</td>\n",
       "      <td>3.33</td>\n",
       "      <td>1</td>\n",
       "      <td>0.15</td>\n",
       "      <td>0</td>\n",
       "      <td>\"bitte alle auf 110\"\"ja\"\"ja man \"\"dann hat jed...</td>\n",
       "      <td>\"Bitte alle auf 110\"\"Ja\"\"Ja man\"\"Dann hat jede...</td>\n",
       "      <td>\"Bitte alle auf 110\"\"Ja\"\"Ja man\"\"Dann hat jede...</td>\n",
       "      <td>\"Bitte alle auf JointProfitPrice\"\"Ja\"\"Ja man\"\"...</td>\n",
       "      <td>1</td>\n",
       "      <td>bitte  jointprofitaction  ja ja jointprofit lo...</td>\n",
       "    </tr>\n",
       "    <tr>\n",
       "      <th>1</th>\n",
       "      <td>201</td>\n",
       "      <td>Bodnar et al.</td>\n",
       "      <td>The Effects of Private Damage Claims on Cartel...</td>\n",
       "      <td>2023</td>\n",
       "      <td>The Journal of Law, Economics, and Organization</td>\n",
       "      <td>201001002001</td>\n",
       "      <td>1</td>\n",
       "      <td>2</td>\n",
       "      <td>1</td>\n",
       "      <td>0.666667</td>\n",
       "      <td>...</td>\n",
       "      <td>3.33</td>\n",
       "      <td>1</td>\n",
       "      <td>0.15</td>\n",
       "      <td>0</td>\n",
       "      <td>\"alle 110\"\"ja sehr gut\"\"was ist mit besprechen...</td>\n",
       "      <td>\"Alle 110.\"\"Ja, sehr gut.\"\"Was ist mit Besprec...</td>\n",
       "      <td>\"Alle 110.\"\"Ja, sehr gut.\"\"Was ist mit Besprec...</td>\n",
       "      <td>\"Alle JointProfitPrice.\"\"Ja, sehr gut.\"\"Was is...</td>\n",
       "      <td>1</td>\n",
       "      <td>jointprofitaction  ja gut besprechen ok grupp...</td>\n",
       "    </tr>\n",
       "    <tr>\n",
       "      <th>2</th>\n",
       "      <td>201</td>\n",
       "      <td>Bodnar et al.</td>\n",
       "      <td>The Effects of Private Damage Claims on Cartel...</td>\n",
       "      <td>2023</td>\n",
       "      <td>The Journal of Law, Economics, and Organization</td>\n",
       "      <td>201001003001</td>\n",
       "      <td>1</td>\n",
       "      <td>3</td>\n",
       "      <td>1</td>\n",
       "      <td>0.583333</td>\n",
       "      <td>...</td>\n",
       "      <td>3.33</td>\n",
       "      <td>1</td>\n",
       "      <td>0.15</td>\n",
       "      <td>0</td>\n",
       "      <td>\"alle immer 110\"\"ja\"\"und wenn keiner meldet, i...</td>\n",
       "      <td>\"Alle immer 110.\"\"Ja\"\"Und wenn keiner meldet, ...</td>\n",
       "      <td>\"Alle immer 110.\"\"Ja\"\"Und wenn keiner meldet, ...</td>\n",
       "      <td>\"Alle immer JointProfitPrice.\"\"Ja\"\"Und wenn ke...</td>\n",
       "      <td>1</td>\n",
       "      <td>immer  jointprofitaction  ja melden wahrschein...</td>\n",
       "    </tr>\n",
       "    <tr>\n",
       "      <th>3</th>\n",
       "      <td>201</td>\n",
       "      <td>Bodnar et al.</td>\n",
       "      <td>The Effects of Private Damage Claims on Cartel...</td>\n",
       "      <td>2023</td>\n",
       "      <td>The Journal of Law, Economics, and Organization</td>\n",
       "      <td>201001004001</td>\n",
       "      <td>1</td>\n",
       "      <td>4</td>\n",
       "      <td>1</td>\n",
       "      <td>1.000000</td>\n",
       "      <td>...</td>\n",
       "      <td>3.33</td>\n",
       "      <td>1</td>\n",
       "      <td>0.15</td>\n",
       "      <td>0</td>\n",
       "      <td>\"Hi\"\"Jeder 110 dann verdient jeder 3 Punkte = ...</td>\n",
       "      <td>\"Hi\"\"Jeder 110, dann verdient jeder 3 Punkte i...</td>\n",
       "      <td>\"Hi\"\"Jeder 110, dann verdient jeder 3 Punkte i...</td>\n",
       "      <td>\"Hi\"\"Jeder JointProfitPrice, dann verdient jed...</td>\n",
       "      <td>1</td>\n",
       "      <td>hallo   jointprofitaction  verdienen jointpro...</td>\n",
       "    </tr>\n",
       "    <tr>\n",
       "      <th>4</th>\n",
       "      <td>201</td>\n",
       "      <td>Bodnar et al.</td>\n",
       "      <td>The Effects of Private Damage Claims on Cartel...</td>\n",
       "      <td>2023</td>\n",
       "      <td>The Journal of Law, Economics, and Organization</td>\n",
       "      <td>201001005001</td>\n",
       "      <td>1</td>\n",
       "      <td>5</td>\n",
       "      <td>1</td>\n",
       "      <td>1.000000</td>\n",
       "      <td>...</td>\n",
       "      <td>3.33</td>\n",
       "      <td>1</td>\n",
       "      <td>0.15</td>\n",
       "      <td>0</td>\n",
       "      <td>\"Sind alle drei da?^^\"\"ale 110 eingeben jede r...</td>\n",
       "      <td>\"Sind alle drei da? happysmiley\"\"Alle 110 eing...</td>\n",
       "      <td>\"Sind alle drei da? happysmiley\"\"Alle 110 eing...</td>\n",
       "      <td>\"Sind alle drei da? happysmiley\"\"Alle JointPro...</td>\n",
       "      <td>1</td>\n",
       "      <td>drei happysmiley  jointprofitaction  eingeben ...</td>\n",
       "    </tr>\n",
       "    <tr>\n",
       "      <th>...</th>\n",
       "      <td>...</td>\n",
       "      <td>...</td>\n",
       "      <td>...</td>\n",
       "      <td>...</td>\n",
       "      <td>...</td>\n",
       "      <td>...</td>\n",
       "      <td>...</td>\n",
       "      <td>...</td>\n",
       "      <td>...</td>\n",
       "      <td>...</td>\n",
       "      <td>...</td>\n",
       "      <td>...</td>\n",
       "      <td>...</td>\n",
       "      <td>...</td>\n",
       "      <td>...</td>\n",
       "      <td>...</td>\n",
       "      <td>...</td>\n",
       "      <td>...</td>\n",
       "      <td>...</td>\n",
       "      <td>...</td>\n",
       "      <td>...</td>\n",
       "    </tr>\n",
       "    <tr>\n",
       "      <th>954</th>\n",
       "      <td>214</td>\n",
       "      <td>Andres et al.</td>\n",
       "      <td>How communication makes the difference between...</td>\n",
       "      <td>2023</td>\n",
       "      <td>European Economic Review</td>\n",
       "      <td>214016002001</td>\n",
       "      <td>16</td>\n",
       "      <td>2</td>\n",
       "      <td>1</td>\n",
       "      <td>1.000000</td>\n",
       "      <td>...</td>\n",
       "      <td>125.00</td>\n",
       "      <td>0</td>\n",
       "      <td>NaN</td>\n",
       "      <td>0</td>\n",
       "      <td>\"lasst uns den preis gemeinsam auf 9 hoch mach...</td>\n",
       "      <td>\"lasst uns den preis gemeinsam auf 9 hoch mach...</td>\n",
       "      <td>\"lasst uns den preis gemeinsam auf 9 hoch mach...</td>\n",
       "      <td>\"lasst uns den preis gemeinsam auf JointProfit...</td>\n",
       "      <td>1</td>\n",
       "      <td>lassen preis gemeinsam  jointprofitaction  hoc...</td>\n",
       "    </tr>\n",
       "    <tr>\n",
       "      <th>955</th>\n",
       "      <td>214</td>\n",
       "      <td>Andres et al.</td>\n",
       "      <td>How communication makes the difference between...</td>\n",
       "      <td>2023</td>\n",
       "      <td>European Economic Review</td>\n",
       "      <td>214016003001</td>\n",
       "      <td>16</td>\n",
       "      <td>3</td>\n",
       "      <td>1</td>\n",
       "      <td>1.000000</td>\n",
       "      <td>...</td>\n",
       "      <td>125.00</td>\n",
       "      <td>0</td>\n",
       "      <td>NaN</td>\n",
       "      <td>0</td>\n",
       "      <td>\"kooperieren? \"\"klar\"\"alle 9?\"\"ok!\"\"wenn immer...</td>\n",
       "      <td>\"kooperieren? \"\"klar\"\"alle 9?\"\"ok!\"\"wenn immer...</td>\n",
       "      <td>\"kooperieren? \"\"klar\"\"alle 9?\"\"ok!\"\"wenn immer...</td>\n",
       "      <td>\"kooperieren? \"\"klar\"\"alle JointProfitPrice?\"\"...</td>\n",
       "      <td>1</td>\n",
       "      <td>kooperieren klar  jointprofitaction  ok immer ...</td>\n",
       "    </tr>\n",
       "    <tr>\n",
       "      <th>956</th>\n",
       "      <td>214</td>\n",
       "      <td>Andres et al.</td>\n",
       "      <td>How communication makes the difference between...</td>\n",
       "      <td>2023</td>\n",
       "      <td>European Economic Review</td>\n",
       "      <td>214016004001</td>\n",
       "      <td>16</td>\n",
       "      <td>4</td>\n",
       "      <td>1</td>\n",
       "      <td>1.000000</td>\n",
       "      <td>...</td>\n",
       "      <td>125.00</td>\n",
       "      <td>0</td>\n",
       "      <td>NaN</td>\n",
       "      <td>0</td>\n",
       "      <td>\"ab jetzt alle 9\"\"wir machen alle am meisten u...</td>\n",
       "      <td>\"ab jetzt alle 9\"\"wir machen alle am meisten u...</td>\n",
       "      <td>\"ab jetzt alle 9\"\"wir machen alle am meisten u...</td>\n",
       "      <td>\"ab jetzt alle JointProfitPrice\"\"wir machen al...</td>\n",
       "      <td>1</td>\n",
       "      <td>ab  jointprofitaction  meister umsatz einfach ...</td>\n",
       "    </tr>\n",
       "    <tr>\n",
       "      <th>957</th>\n",
       "      <td>214</td>\n",
       "      <td>Andres et al.</td>\n",
       "      <td>How communication makes the difference between...</td>\n",
       "      <td>2023</td>\n",
       "      <td>European Economic Review</td>\n",
       "      <td>214016005001</td>\n",
       "      <td>16</td>\n",
       "      <td>5</td>\n",
       "      <td>1</td>\n",
       "      <td>0.901961</td>\n",
       "      <td>...</td>\n",
       "      <td>125.00</td>\n",
       "      <td>0</td>\n",
       "      <td>NaN</td>\n",
       "      <td>0</td>\n",
       "      <td>\"so hey\"\"alle 9?\"\"nein\"\"2 machen 7\"\"einer mach...</td>\n",
       "      <td>\"so hey\"\"alle 9?\"\"nein\"\"2 machen 7\"\"einer mach...</td>\n",
       "      <td>\"so hey\"\"alle 9?\"\"nein\"\"2 machen 7\"\"einer mach...</td>\n",
       "      <td>\"so hey\"\"alle JointProfitPrice?\"\"nein\"\"2 mache...</td>\n",
       "      <td>1</td>\n",
       "      <td>hallo   jointprofitaction  nein macht erhöhen...</td>\n",
       "    </tr>\n",
       "    <tr>\n",
       "      <th>958</th>\n",
       "      <td>214</td>\n",
       "      <td>Andres et al.</td>\n",
       "      <td>How communication makes the difference between...</td>\n",
       "      <td>2023</td>\n",
       "      <td>European Economic Review</td>\n",
       "      <td>214016006001</td>\n",
       "      <td>16</td>\n",
       "      <td>6</td>\n",
       "      <td>1</td>\n",
       "      <td>0.666667</td>\n",
       "      <td>...</td>\n",
       "      <td>125.00</td>\n",
       "      <td>0</td>\n",
       "      <td>NaN</td>\n",
       "      <td>0</td>\n",
       "      <td>\"Wie ist es für alle am fairsten?\"\"vllt iimmer...</td>\n",
       "      <td>\"Wie ist es für alle am fairsten?\"\"vielleicht ...</td>\n",
       "      <td>\"Wie ist es für alle am fairsten?\"\"vielleicht ...</td>\n",
       "      <td>\"Wie ist es für alle am fairsten?\"\"vielleicht ...</td>\n",
       "      <td>1</td>\n",
       "      <td>fair vielleicht immer abwechseln sagen firmnum...</td>\n",
       "    </tr>\n",
       "  </tbody>\n",
       "</table>\n",
       "<p>349 rows × 45 columns</p>\n",
       "</div>"
      ],
      "text/plain": [
       "     StudyID         Author  \\\n",
       "0        201  Bodnar et al.   \n",
       "1        201  Bodnar et al.   \n",
       "2        201  Bodnar et al.   \n",
       "3        201  Bodnar et al.   \n",
       "4        201  Bodnar et al.   \n",
       "..       ...            ...   \n",
       "954      214  Andres et al.   \n",
       "955      214  Andres et al.   \n",
       "956      214  Andres et al.   \n",
       "957      214  Andres et al.   \n",
       "958      214  Andres et al.   \n",
       "\n",
       "                                                 Title  Year  \\\n",
       "0    The Effects of Private Damage Claims on Cartel...  2023   \n",
       "1    The Effects of Private Damage Claims on Cartel...  2023   \n",
       "2    The Effects of Private Damage Claims on Cartel...  2023   \n",
       "3    The Effects of Private Damage Claims on Cartel...  2023   \n",
       "4    The Effects of Private Damage Claims on Cartel...  2023   \n",
       "..                                                 ...   ...   \n",
       "954  How communication makes the difference between...  2023   \n",
       "955  How communication makes the difference between...  2023   \n",
       "956  How communication makes the difference between...  2023   \n",
       "957  How communication makes the difference between...  2023   \n",
       "958  How communication makes the difference between...  2023   \n",
       "\n",
       "                                             Journal   SingleGroup  Session  \\\n",
       "0    The Journal of Law, Economics, and Organization  201001001001        1   \n",
       "1    The Journal of Law, Economics, and Organization  201001002001        1   \n",
       "2    The Journal of Law, Economics, and Organization  201001003001        1   \n",
       "3    The Journal of Law, Economics, and Organization  201001004001        1   \n",
       "4    The Journal of Law, Economics, and Organization  201001005001        1   \n",
       "..                                               ...           ...      ...   \n",
       "954                         European Economic Review  214016002001       16   \n",
       "955                         European Economic Review  214016003001       16   \n",
       "956                         European Economic Review  214016004001       16   \n",
       "957                         European Economic Review  214016005001       16   \n",
       "958                         European Economic Review  214016006001       16   \n",
       "\n",
       "     Group  AvgMatchNo  CoundOneCoopvar1  ...  ExchangeRate  Fine  FineAlpha  \\\n",
       "0        1           1          0.074074  ...          3.33     1       0.15   \n",
       "1        2           1          0.666667  ...          3.33     1       0.15   \n",
       "2        3           1          0.583333  ...          3.33     1       0.15   \n",
       "3        4           1          1.000000  ...          3.33     1       0.15   \n",
       "4        5           1          1.000000  ...          3.33     1       0.15   \n",
       "..     ...         ...               ...  ...           ...   ...        ...   \n",
       "954      2           1          1.000000  ...        125.00     0        NaN   \n",
       "955      3           1          1.000000  ...        125.00     0        NaN   \n",
       "956      4           1          1.000000  ...        125.00     0        NaN   \n",
       "957      5           1          0.901961  ...        125.00     0        NaN   \n",
       "958      6           1          0.666667  ...        125.00     0        NaN   \n",
       "\n",
       "     Rematch                                   AllChat_Original  \\\n",
       "0          0  \"bitte alle auf 110\"\"ja\"\"ja man \"\"dann hat jed...   \n",
       "1          0  \"alle 110\"\"ja sehr gut\"\"was ist mit besprechen...   \n",
       "2          0  \"alle immer 110\"\"ja\"\"und wenn keiner meldet, i...   \n",
       "3          0  \"Hi\"\"Jeder 110 dann verdient jeder 3 Punkte = ...   \n",
       "4          0  \"Sind alle drei da?^^\"\"ale 110 eingeben jede r...   \n",
       "..       ...                                                ...   \n",
       "954        0  \"lasst uns den preis gemeinsam auf 9 hoch mach...   \n",
       "955        0  \"kooperieren? \"\"klar\"\"alle 9?\"\"ok!\"\"wenn immer...   \n",
       "956        0  \"ab jetzt alle 9\"\"wir machen alle am meisten u...   \n",
       "957        0  \"so hey\"\"alle 9?\"\"nein\"\"2 machen 7\"\"einer mach...   \n",
       "958        0  \"Wie ist es für alle am fairsten?\"\"vllt iimmer...   \n",
       "\n",
       "                                       AllChat_Cleaned  \\\n",
       "0    \"Bitte alle auf 110\"\"Ja\"\"Ja man\"\"Dann hat jede...   \n",
       "1    \"Alle 110.\"\"Ja, sehr gut.\"\"Was ist mit Besprec...   \n",
       "2    \"Alle immer 110.\"\"Ja\"\"Und wenn keiner meldet, ...   \n",
       "3    \"Hi\"\"Jeder 110, dann verdient jeder 3 Punkte i...   \n",
       "4    \"Sind alle drei da? happysmiley\"\"Alle 110 eing...   \n",
       "..                                                 ...   \n",
       "954  \"lasst uns den preis gemeinsam auf 9 hoch mach...   \n",
       "955  \"kooperieren? \"\"klar\"\"alle 9?\"\"ok!\"\"wenn immer...   \n",
       "956  \"ab jetzt alle 9\"\"wir machen alle am meisten u...   \n",
       "957  \"so hey\"\"alle 9?\"\"nein\"\"2 machen 7\"\"einer mach...   \n",
       "958  \"Wie ist es für alle am fairsten?\"\"vielleicht ...   \n",
       "\n",
       "                                      AllChat_Cleaned2  \\\n",
       "0    \"Bitte alle auf 110\"\"Ja\"\"Ja man\"\"Dann hat jede...   \n",
       "1    \"Alle 110.\"\"Ja, sehr gut.\"\"Was ist mit Besprec...   \n",
       "2    \"Alle immer 110.\"\"Ja\"\"Und wenn keiner meldet, ...   \n",
       "3    \"Hi\"\"Jeder 110, dann verdient jeder 3 Punkte i...   \n",
       "4    \"Sind alle drei da? happysmiley\"\"Alle 110 eing...   \n",
       "..                                                 ...   \n",
       "954  \"lasst uns den preis gemeinsam auf 9 hoch mach...   \n",
       "955  \"kooperieren? \"\"klar\"\"alle 9?\"\"ok!\"\"wenn immer...   \n",
       "956  \"ab jetzt alle 9\"\"wir machen alle am meisten u...   \n",
       "957  \"so hey\"\"alle 9?\"\"nein\"\"2 machen 7\"\"einer mach...   \n",
       "958  \"Wie ist es für alle am fairsten?\"\"vielleicht ...   \n",
       "\n",
       "                                     AllChat_PriceKeys  CommTreat  \\\n",
       "0    \"Bitte alle auf JointProfitPrice\"\"Ja\"\"Ja man\"\"...          1   \n",
       "1    \"Alle JointProfitPrice.\"\"Ja, sehr gut.\"\"Was is...          1   \n",
       "2    \"Alle immer JointProfitPrice.\"\"Ja\"\"Und wenn ke...          1   \n",
       "3    \"Hi\"\"Jeder JointProfitPrice, dann verdient jed...          1   \n",
       "4    \"Sind alle drei da? happysmiley\"\"Alle JointPro...          1   \n",
       "..                                                 ...        ...   \n",
       "954  \"lasst uns den preis gemeinsam auf JointProfit...          1   \n",
       "955  \"kooperieren? \"\"klar\"\"alle JointProfitPrice?\"\"...          1   \n",
       "956  \"ab jetzt alle JointProfitPrice\"\"wir machen al...          1   \n",
       "957  \"so hey\"\"alle JointProfitPrice?\"\"nein\"\"2 mache...          1   \n",
       "958  \"Wie ist es für alle am fairsten?\"\"vielleicht ...          1   \n",
       "\n",
       "                                              document  \n",
       "0    bitte  jointprofitaction  ja ja jointprofit lo...  \n",
       "1     jointprofitaction  ja gut besprechen ok grupp...  \n",
       "2    immer  jointprofitaction  ja melden wahrschein...  \n",
       "3     hallo   jointprofitaction  verdienen jointpro...  \n",
       "4    drei happysmiley  jointprofitaction  eingeben ...  \n",
       "..                                                 ...  \n",
       "954  lassen preis gemeinsam  jointprofitaction  hoc...  \n",
       "955  kooperieren klar  jointprofitaction  ok immer ...  \n",
       "956  ab  jointprofitaction  meister umsatz einfach ...  \n",
       "957   hallo   jointprofitaction  nein macht erhöhen...  \n",
       "958  fair vielleicht immer abwechseln sagen firmnum...  \n",
       "\n",
       "[349 rows x 45 columns]"
      ]
     },
     "execution_count": 36,
     "metadata": {},
     "output_type": "execute_result"
    }
   ],
   "source": [
    "df[df['document'] != 'nan']"
   ]
  },
  {
   "cell_type": "markdown",
   "metadata": {},
   "source": [
    "The number of unique tokens"
   ]
  },
  {
   "cell_type": "code",
   "execution_count": 37,
   "metadata": {},
   "outputs": [
    {
     "data": {
      "text/plain": [
       "5567"
      ]
     },
     "execution_count": 37,
     "metadata": {},
     "output_type": "execute_result"
    }
   ],
   "source": [
    "len(list(set(\" \".join(df[df['document'] != 'nan']['document'].values.tolist()).lower().split(\" \"))))"
   ]
  },
  {
   "cell_type": "markdown",
   "metadata": {},
   "source": [
    "## Visualize the documents"
   ]
  },
  {
   "cell_type": "markdown",
   "metadata": {},
   "source": [
    "Variable for visualization purposes later on"
   ]
  },
  {
   "cell_type": "code",
   "execution_count": 38,
   "metadata": {},
   "outputs": [],
   "source": [
    "df['AuthorYear'] = df['Author'] + ' (' + df['Year'].astype(str) + ')'"
   ]
  },
  {
   "cell_type": "markdown",
   "metadata": {},
   "source": [
    "Count the **number of tokens** per document"
   ]
  },
  {
   "cell_type": "code",
   "execution_count": 39,
   "metadata": {},
   "outputs": [],
   "source": [
    "df['Count'] = df['document'].str.split().str.len()"
   ]
  },
  {
   "cell_type": "markdown",
   "metadata": {},
   "source": [
    "Descirbe the count per study"
   ]
  },
  {
   "cell_type": "code",
   "execution_count": 40,
   "metadata": {},
   "outputs": [
    {
     "data": {
      "text/html": [
       "<div>\n",
       "<style scoped>\n",
       "    .dataframe tbody tr th:only-of-type {\n",
       "        vertical-align: middle;\n",
       "    }\n",
       "\n",
       "    .dataframe tbody tr th {\n",
       "        vertical-align: top;\n",
       "    }\n",
       "\n",
       "    .dataframe thead th {\n",
       "        text-align: right;\n",
       "    }\n",
       "</style>\n",
       "<table border=\"1\" class=\"dataframe\">\n",
       "  <thead>\n",
       "    <tr style=\"text-align: right;\">\n",
       "      <th></th>\n",
       "      <th></th>\n",
       "      <th>count</th>\n",
       "      <th>mean</th>\n",
       "      <th>std</th>\n",
       "      <th>min</th>\n",
       "      <th>25%</th>\n",
       "      <th>50%</th>\n",
       "      <th>75%</th>\n",
       "      <th>max</th>\n",
       "    </tr>\n",
       "    <tr>\n",
       "      <th>AuthorYear</th>\n",
       "      <th>Preplay</th>\n",
       "      <th></th>\n",
       "      <th></th>\n",
       "      <th></th>\n",
       "      <th></th>\n",
       "      <th></th>\n",
       "      <th></th>\n",
       "      <th></th>\n",
       "      <th></th>\n",
       "    </tr>\n",
       "  </thead>\n",
       "  <tbody>\n",
       "    <tr>\n",
       "      <th>Andres et al. (2023)</th>\n",
       "      <th>0</th>\n",
       "      <td>76.0</td>\n",
       "      <td>297.750000</td>\n",
       "      <td>178.242092</td>\n",
       "      <td>9.0</td>\n",
       "      <td>140.5</td>\n",
       "      <td>297.0</td>\n",
       "      <td>415.75</td>\n",
       "      <td>680.0</td>\n",
       "    </tr>\n",
       "    <tr>\n",
       "      <th>Bodnar et al. (2023)</th>\n",
       "      <th>0</th>\n",
       "      <td>13.0</td>\n",
       "      <td>44.076923</td>\n",
       "      <td>55.387215</td>\n",
       "      <td>11.0</td>\n",
       "      <td>24.0</td>\n",
       "      <td>30.0</td>\n",
       "      <td>33.00</td>\n",
       "      <td>224.0</td>\n",
       "    </tr>\n",
       "    <tr>\n",
       "      <th>Clemens and Rau (2019)</th>\n",
       "      <th>1</th>\n",
       "      <td>27.0</td>\n",
       "      <td>246.185185</td>\n",
       "      <td>138.158503</td>\n",
       "      <td>43.0</td>\n",
       "      <td>167.5</td>\n",
       "      <td>203.0</td>\n",
       "      <td>365.50</td>\n",
       "      <td>525.0</td>\n",
       "    </tr>\n",
       "    <tr>\n",
       "      <th>Clemens and Rau (2022)</th>\n",
       "      <th>0</th>\n",
       "      <td>7.0</td>\n",
       "      <td>248.857143</td>\n",
       "      <td>77.044205</td>\n",
       "      <td>179.0</td>\n",
       "      <td>192.0</td>\n",
       "      <td>234.0</td>\n",
       "      <td>273.00</td>\n",
       "      <td>399.0</td>\n",
       "    </tr>\n",
       "    <tr>\n",
       "      <th>Fischer and Normann (2019)</th>\n",
       "      <th>1</th>\n",
       "      <td>94.0</td>\n",
       "      <td>16.319149</td>\n",
       "      <td>10.768545</td>\n",
       "      <td>1.0</td>\n",
       "      <td>8.0</td>\n",
       "      <td>15.0</td>\n",
       "      <td>22.75</td>\n",
       "      <td>48.0</td>\n",
       "    </tr>\n",
       "    <tr>\n",
       "      <th>Fonseca and Normann (2014)</th>\n",
       "      <th>0</th>\n",
       "      <td>31.0</td>\n",
       "      <td>88.903226</td>\n",
       "      <td>74.904986</td>\n",
       "      <td>15.0</td>\n",
       "      <td>34.0</td>\n",
       "      <td>62.0</td>\n",
       "      <td>110.00</td>\n",
       "      <td>265.0</td>\n",
       "    </tr>\n",
       "    <tr>\n",
       "      <th>Fonseca et al. (2018)</th>\n",
       "      <th>0</th>\n",
       "      <td>24.0</td>\n",
       "      <td>237.291667</td>\n",
       "      <td>141.975956</td>\n",
       "      <td>42.0</td>\n",
       "      <td>125.5</td>\n",
       "      <td>196.0</td>\n",
       "      <td>317.50</td>\n",
       "      <td>540.0</td>\n",
       "    </tr>\n",
       "    <tr>\n",
       "      <th>Freitag et al. (2021)</th>\n",
       "      <th>1</th>\n",
       "      <td>77.0</td>\n",
       "      <td>41.831169</td>\n",
       "      <td>19.021043</td>\n",
       "      <td>3.0</td>\n",
       "      <td>30.0</td>\n",
       "      <td>41.0</td>\n",
       "      <td>53.00</td>\n",
       "      <td>101.0</td>\n",
       "    </tr>\n",
       "  </tbody>\n",
       "</table>\n",
       "</div>"
      ],
      "text/plain": [
       "                                    count        mean         std    min  \\\n",
       "AuthorYear                 Preplay                                         \n",
       "Andres et al. (2023)       0         76.0  297.750000  178.242092    9.0   \n",
       "Bodnar et al. (2023)       0         13.0   44.076923   55.387215   11.0   \n",
       "Clemens and Rau (2019)     1         27.0  246.185185  138.158503   43.0   \n",
       "Clemens and Rau (2022)     0          7.0  248.857143   77.044205  179.0   \n",
       "Fischer and Normann (2019) 1         94.0   16.319149   10.768545    1.0   \n",
       "Fonseca and Normann (2014) 0         31.0   88.903226   74.904986   15.0   \n",
       "Fonseca et al. (2018)      0         24.0  237.291667  141.975956   42.0   \n",
       "Freitag et al. (2021)      1         77.0   41.831169   19.021043    3.0   \n",
       "\n",
       "                                      25%    50%     75%    max  \n",
       "AuthorYear                 Preplay                               \n",
       "Andres et al. (2023)       0        140.5  297.0  415.75  680.0  \n",
       "Bodnar et al. (2023)       0         24.0   30.0   33.00  224.0  \n",
       "Clemens and Rau (2019)     1        167.5  203.0  365.50  525.0  \n",
       "Clemens and Rau (2022)     0        192.0  234.0  273.00  399.0  \n",
       "Fischer and Normann (2019) 1          8.0   15.0   22.75   48.0  \n",
       "Fonseca and Normann (2014) 0         34.0   62.0  110.00  265.0  \n",
       "Fonseca et al. (2018)      0        125.5  196.0  317.50  540.0  \n",
       "Freitag et al. (2021)      1         30.0   41.0   53.00  101.0  "
      ]
     },
     "execution_count": 40,
     "metadata": {},
     "output_type": "execute_result"
    }
   ],
   "source": [
    "df[df['document'] != 'nan'].groupby(['AuthorYear','Preplay'])['Count'].describe()"
   ]
  },
  {
   "cell_type": "markdown",
   "metadata": {},
   "source": [
    "Function to plot corpus"
   ]
  },
  {
   "cell_type": "code",
   "execution_count": 41,
   "metadata": {},
   "outputs": [],
   "source": [
    "def plot_corpus(df, condition, var_of_interest, y_lim, height, aspect):\n",
    "    \n",
    "    \"\"\"\n",
    "    This function is used to plot the corpus. \n",
    "    \n",
    "    \"\"\"\n",
    "    \n",
    "    g = sns.catplot(data=df.loc[df[\"Preplay\"] == condition], x=\"AuthorYear\", y=var_of_interest, kind='box', color= '#7998C9',\n",
    "                height=height,aspect=aspect)\n",
    "    g.set(xlabel=None)\n",
    "    g.set(ylim=(0, y_lim))\n",
    "\n",
    "    g.figure.savefig(path + '/Figures/Figure_Corpus_'+var_of_interest+str(condition)+'.pdf', dpi = 300)\n",
    "    \n",
    "    return g\n",
    "    \n",
    "    "
   ]
  },
  {
   "cell_type": "markdown",
   "metadata": {},
   "source": [
    "Visualize the documents of studies with pre-play communication"
   ]
  },
  {
   "cell_type": "code",
   "execution_count": 42,
   "metadata": {},
   "outputs": [
    {
     "data": {
      "text/plain": [
       "<seaborn.axisgrid.FacetGrid at 0x21bb96498e0>"
      ]
     },
     "execution_count": 42,
     "metadata": {},
     "output_type": "execute_result"
    },
    {
     "data": {
      "image/png": "[encoded data removed]",
      "text/plain": [
       "<Figure size 662.222x500 with 1 Axes>"
      ]
     },
     "metadata": {},
     "output_type": "display_data"
    }
   ],
   "source": [
    "plot_corpus(df=df[df['document'] != 'nan'],\n",
    "            condition=1,\n",
    "            var_of_interest='Count',\n",
    "            y_lim=800, \n",
    "            height=5, \n",
    "            aspect=1.3)"
   ]
  },
  {
   "cell_type": "markdown",
   "metadata": {},
   "source": [
    "Visualize the documents of studies with repeated communication"
   ]
  },
  {
   "cell_type": "code",
   "execution_count": 43,
   "metadata": {},
   "outputs": [
    {
     "data": {
      "text/plain": [
       "<seaborn.axisgrid.FacetGrid at 0x21bc73ddeb0>"
      ]
     },
     "execution_count": 43,
     "metadata": {},
     "output_type": "execute_result"
    },
    {
     "data": {
      "image/png": "[encoded data removed]",
      "text/plain": [
       "<Figure size 1112.22x500 with 1 Axes>"
      ]
     },
     "metadata": {},
     "output_type": "display_data"
    }
   ],
   "source": [
    "plot_corpus(df=df[df['document'] != 'nan'],\n",
    "            condition=0,\n",
    "            var_of_interest='Count',\n",
    "            y_lim=800, \n",
    "            height=5, \n",
    "            aspect=2.2)"
   ]
  },
  {
   "cell_type": "markdown",
   "metadata": {},
   "source": [
    "**Length of documents**"
   ]
  },
  {
   "cell_type": "code",
   "execution_count": 44,
   "metadata": {},
   "outputs": [],
   "source": [
    "df['Length'] = df['document'].str.len()"
   ]
  },
  {
   "cell_type": "markdown",
   "metadata": {},
   "source": [
    "Descirbe the length per study"
   ]
  },
  {
   "cell_type": "code",
   "execution_count": 45,
   "metadata": {},
   "outputs": [
    {
     "data": {
      "text/html": [
       "<div>\n",
       "<style scoped>\n",
       "    .dataframe tbody tr th:only-of-type {\n",
       "        vertical-align: middle;\n",
       "    }\n",
       "\n",
       "    .dataframe tbody tr th {\n",
       "        vertical-align: top;\n",
       "    }\n",
       "\n",
       "    .dataframe thead th {\n",
       "        text-align: right;\n",
       "    }\n",
       "</style>\n",
       "<table border=\"1\" class=\"dataframe\">\n",
       "  <thead>\n",
       "    <tr style=\"text-align: right;\">\n",
       "      <th></th>\n",
       "      <th></th>\n",
       "      <th>count</th>\n",
       "      <th>mean</th>\n",
       "      <th>std</th>\n",
       "      <th>min</th>\n",
       "      <th>25%</th>\n",
       "      <th>50%</th>\n",
       "      <th>75%</th>\n",
       "      <th>max</th>\n",
       "    </tr>\n",
       "    <tr>\n",
       "      <th>AuthorYear</th>\n",
       "      <th>Preplay</th>\n",
       "      <th></th>\n",
       "      <th></th>\n",
       "      <th></th>\n",
       "      <th></th>\n",
       "      <th></th>\n",
       "      <th></th>\n",
       "      <th></th>\n",
       "      <th></th>\n",
       "    </tr>\n",
       "  </thead>\n",
       "  <tbody>\n",
       "    <tr>\n",
       "      <th>Andres et al. (2023)</th>\n",
       "      <th>0</th>\n",
       "      <td>76.0</td>\n",
       "      <td>2268.868421</td>\n",
       "      <td>1376.187607</td>\n",
       "      <td>55.0</td>\n",
       "      <td>1042.75</td>\n",
       "      <td>2230.0</td>\n",
       "      <td>3017.25</td>\n",
       "      <td>5352.0</td>\n",
       "    </tr>\n",
       "    <tr>\n",
       "      <th>Bodnar et al. (2023)</th>\n",
       "      <th>0</th>\n",
       "      <td>13.0</td>\n",
       "      <td>385.538462</td>\n",
       "      <td>505.984291</td>\n",
       "      <td>99.0</td>\n",
       "      <td>225.00</td>\n",
       "      <td>234.0</td>\n",
       "      <td>302.00</td>\n",
       "      <td>2039.0</td>\n",
       "    </tr>\n",
       "    <tr>\n",
       "      <th>Clemens and Rau (2019)</th>\n",
       "      <th>1</th>\n",
       "      <td>27.0</td>\n",
       "      <td>1898.629630</td>\n",
       "      <td>1076.298327</td>\n",
       "      <td>370.0</td>\n",
       "      <td>1299.00</td>\n",
       "      <td>1585.0</td>\n",
       "      <td>2889.50</td>\n",
       "      <td>4314.0</td>\n",
       "    </tr>\n",
       "    <tr>\n",
       "      <th>Clemens and Rau (2022)</th>\n",
       "      <th>0</th>\n",
       "      <td>7.0</td>\n",
       "      <td>1813.714286</td>\n",
       "      <td>447.627343</td>\n",
       "      <td>1412.0</td>\n",
       "      <td>1485.50</td>\n",
       "      <td>1593.0</td>\n",
       "      <td>2044.00</td>\n",
       "      <td>2632.0</td>\n",
       "    </tr>\n",
       "    <tr>\n",
       "      <th>Fischer and Normann (2019)</th>\n",
       "      <th>1</th>\n",
       "      <td>94.0</td>\n",
       "      <td>120.361702</td>\n",
       "      <td>82.660057</td>\n",
       "      <td>1.0</td>\n",
       "      <td>54.25</td>\n",
       "      <td>108.5</td>\n",
       "      <td>174.75</td>\n",
       "      <td>340.0</td>\n",
       "    </tr>\n",
       "    <tr>\n",
       "      <th>Fonseca and Normann (2014)</th>\n",
       "      <th>0</th>\n",
       "      <td>31.0</td>\n",
       "      <td>757.032258</td>\n",
       "      <td>641.754339</td>\n",
       "      <td>98.0</td>\n",
       "      <td>276.50</td>\n",
       "      <td>525.0</td>\n",
       "      <td>976.00</td>\n",
       "      <td>2152.0</td>\n",
       "    </tr>\n",
       "    <tr>\n",
       "      <th>Fonseca et al. (2018)</th>\n",
       "      <th>0</th>\n",
       "      <td>24.0</td>\n",
       "      <td>1676.541667</td>\n",
       "      <td>993.242909</td>\n",
       "      <td>281.0</td>\n",
       "      <td>991.00</td>\n",
       "      <td>1326.5</td>\n",
       "      <td>2290.25</td>\n",
       "      <td>3694.0</td>\n",
       "    </tr>\n",
       "    <tr>\n",
       "      <th>Freitag et al. (2021)</th>\n",
       "      <th>1</th>\n",
       "      <td>77.0</td>\n",
       "      <td>322.584416</td>\n",
       "      <td>145.696183</td>\n",
       "      <td>11.0</td>\n",
       "      <td>233.00</td>\n",
       "      <td>324.0</td>\n",
       "      <td>408.00</td>\n",
       "      <td>764.0</td>\n",
       "    </tr>\n",
       "  </tbody>\n",
       "</table>\n",
       "</div>"
      ],
      "text/plain": [
       "                                    count         mean          std     min  \\\n",
       "AuthorYear                 Preplay                                            \n",
       "Andres et al. (2023)       0         76.0  2268.868421  1376.187607    55.0   \n",
       "Bodnar et al. (2023)       0         13.0   385.538462   505.984291    99.0   \n",
       "Clemens and Rau (2019)     1         27.0  1898.629630  1076.298327   370.0   \n",
       "Clemens and Rau (2022)     0          7.0  1813.714286   447.627343  1412.0   \n",
       "Fischer and Normann (2019) 1         94.0   120.361702    82.660057     1.0   \n",
       "Fonseca and Normann (2014) 0         31.0   757.032258   641.754339    98.0   \n",
       "Fonseca et al. (2018)      0         24.0  1676.541667   993.242909   281.0   \n",
       "Freitag et al. (2021)      1         77.0   322.584416   145.696183    11.0   \n",
       "\n",
       "                                        25%     50%      75%     max  \n",
       "AuthorYear                 Preplay                                    \n",
       "Andres et al. (2023)       0        1042.75  2230.0  3017.25  5352.0  \n",
       "Bodnar et al. (2023)       0         225.00   234.0   302.00  2039.0  \n",
       "Clemens and Rau (2019)     1        1299.00  1585.0  2889.50  4314.0  \n",
       "Clemens and Rau (2022)     0        1485.50  1593.0  2044.00  2632.0  \n",
       "Fischer and Normann (2019) 1          54.25   108.5   174.75   340.0  \n",
       "Fonseca and Normann (2014) 0         276.50   525.0   976.00  2152.0  \n",
       "Fonseca et al. (2018)      0         991.00  1326.5  2290.25  3694.0  \n",
       "Freitag et al. (2021)      1         233.00   324.0   408.00   764.0  "
      ]
     },
     "execution_count": 45,
     "metadata": {},
     "output_type": "execute_result"
    }
   ],
   "source": [
    "df[df['document'] != 'nan'].groupby(['AuthorYear','Preplay'])['Length'].describe()"
   ]
  },
  {
   "cell_type": "markdown",
   "metadata": {},
   "source": [
    "Visualize the documents of studies with pre-play communication"
   ]
  },
  {
   "cell_type": "code",
   "execution_count": 46,
   "metadata": {},
   "outputs": [
    {
     "data": {
      "text/plain": [
       "<seaborn.axisgrid.FacetGrid at 0x21bc7aa74a0>"
      ]
     },
     "execution_count": 46,
     "metadata": {},
     "output_type": "execute_result"
    },
    {
     "data": {
      "image/png": "[encoded data removed]",
      "text/plain": [
       "<Figure size 662.222x500 with 1 Axes>"
      ]
     },
     "metadata": {},
     "output_type": "display_data"
    }
   ],
   "source": [
    "plot_corpus(df=df[df['document'] != 'nan'],\n",
    "            condition=1,\n",
    "            var_of_interest='Length',\n",
    "            y_lim=6000, \n",
    "            height=5, \n",
    "            aspect=1.3)"
   ]
  },
  {
   "cell_type": "markdown",
   "metadata": {},
   "source": [
    "Visualize the documents of studies with repeated communication"
   ]
  },
  {
   "cell_type": "code",
   "execution_count": 47,
   "metadata": {},
   "outputs": [
    {
     "data": {
      "text/plain": [
       "<seaborn.axisgrid.FacetGrid at 0x21bb69d4bc0>"
      ]
     },
     "execution_count": 47,
     "metadata": {},
     "output_type": "execute_result"
    },
    {
     "data": {
      "image/png": "[encoded data removed]",
      "text/plain": [
       "<Figure size 1112.22x500 with 1 Axes>"
      ]
     },
     "metadata": {},
     "output_type": "display_data"
    }
   ],
   "source": [
    "plot_corpus(df=df[df['document'] != 'nan'],\n",
    "            condition=0,\n",
    "            var_of_interest='Length',\n",
    "            y_lim=6000, \n",
    "            height=5, \n",
    "            aspect=2.2)"
   ]
  },
  {
   "cell_type": "markdown",
   "metadata": {},
   "source": [
    "## Save the Data Frame"
   ]
  },
  {
   "cell_type": "markdown",
   "metadata": {},
   "source": [
    "Export the DataFrame to an Excel file"
   ]
  },
  {
   "cell_type": "code",
   "execution_count": 48,
   "metadata": {},
   "outputs": [],
   "source": [
    "df.to_excel(path + '/Data/Target_GrSe_PP.xlsx', index=False)"
   ]
  },
  {
   "cell_type": "code",
   "execution_count": null,
   "metadata": {},
   "outputs": [],
   "source": []
  }
 ],
 "metadata": {
  "colab": {
   "collapsed_sections": [],
   "name": "ModelsTrainingAndTest.ipynb",
   "provenance": []
  },
  "kernelspec": {
   "display_name": "Python 3 (ipykernel)",
   "language": "python",
   "name": "python3"
  },
  "language_info": {
   "codemirror_mode": {
    "name": "ipython",
    "version": 3
   },
   "file_extension": ".py",
   "mimetype": "text/x-python",
   "name": "python",
   "nbconvert_exporter": "python",
   "pygments_lexer": "ipython3",
   "version": "3.12.4"
  }
 },
 "nbformat": 4,
 "nbformat_minor": 4
}
